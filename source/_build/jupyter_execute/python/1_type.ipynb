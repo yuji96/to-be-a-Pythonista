{
 "cells": [
  {
   "cell_type": "markdown",
   "metadata": {},
   "source": [
    "# 1. 型と変数"
   ]
  },
  {
   "cell_type": "markdown",
   "metadata": {},
   "source": [
    "## 1.1.  Hello, World!"
   ]
  },
  {
   "cell_type": "code",
   "execution_count": 1,
   "metadata": {},
   "outputs": [
    {
     "name": "stdout",
     "output_type": "stream",
     "text": [
      "Hello, World!\n"
     ]
    }
   ],
   "source": [
    "print(\"Hello, World!\")"
   ]
  },
  {
   "cell_type": "markdown",
   "metadata": {},
   "source": [
    "これは「`\"Hello, World\"` という文字列を表示するプログラム」で、最も単純かつ有名なプログラムです。よく、初心者向けの教材の 1 ページ目や動作確認などで登場します。この教材もその慣習に則ってみました。\n",
    "\n",
    "まず、このとても単純なコードの仕組みを理解しましょう。\n",
    "- `print` : これは **丸括弧** 内のものを表示する **関数 (function)** です。\n",
    "- `\"Hello, World\"` : これは **文字列 (string)** です（当たり前）。ダブルクォーテーション or シングルクォーテーション (`\" or '`) で囲まれた文字列は、プログラム内でも文字列として扱われます。\n",
    "  \n",
    "なので、`print(\"Hello, World\")` は「`\"Hello, World\"` という文字列を表示する」ことができるのです。"
   ]
  },
  {
   "cell_type": "markdown",
   "metadata": {},
   "source": [
    "```{note}\n",
    "`print` とは「**丸括弧** 内のものを表示する」という処理に対する名前、つまり、**関数名** です。身近なことで例えると、「箸で米を掴んで口の中に入れて噛んで飲み込む」という一連の動作を「食べる」と名付けて大雑把にすることで世の中は便利になっています。（例えたことでむしろ困惑させてたらごめん）。\n",
    "```\n",
    "\n",
    "```{tip}\n",
    "これは僕の憶測ですが、Python の文法はきれいに書くと英文法に近くなります。`print(\"Hello, World!\")` は、そのまま「Print \"Hello, World!\"」と解釈することができ、あなたが Python に「\"Hello, World!\" と表示しろ！」と命令しているのです。\n",
    "```\n"
   ]
  },
  {
   "cell_type": "markdown",
   "metadata": {},
   "source": [
    "## 1.2. 型 (type)"
   ]
  },
  {
   "cell_type": "markdown",
   "metadata": {},
   "source": [
    "プログラミングには **型 (type)** という考え方があります。さっき出てきた 文字列 も型の一つです。簡単に言うとプログラミングで扱うことができる概念の種類みたいなものです。百聞は一見にしかずということで、色々と見てみましょう。"
   ]
  },
  {
   "cell_type": "markdown",
   "metadata": {},
   "source": [
    "```{tip}\n",
    "たまには「そういうものだ」ということにして分かるようになってから戻ってくることも大事。\n",
    "```"
   ]
  },
  {
   "cell_type": "code",
   "execution_count": 2,
   "metadata": {},
   "outputs": [
    {
     "name": "stdout",
     "output_type": "stream",
     "text": [
      "文字列 文字列だよ <class 'str'>\n",
      "整数 12345 <class 'int'>\n",
      "小数 (浮動小数点数) 3.141592 <class 'float'>\n"
     ]
    }
   ],
   "source": [
    "print(\"文字列\", \"文字列だよ\", type(\"文字列だよ\"))\n",
    "print(\"整数\", 12345, type(12345))\n",
    "print(\"小数 (浮動小数点数)\", 3.141592, type(3.141592))"
   ]
  },
  {
   "cell_type": "code",
   "execution_count": 3,
   "metadata": {},
   "outputs": [
    {
     "name": "stdout",
     "output_type": "stream",
     "text": [
      "リスト [1, 2, 3] <class 'list'>\n",
      "タプル (1, 2, 3) <class 'tuple'>\n",
      "集合 {1, 2, 3} <class 'set'>\n"
     ]
    }
   ],
   "source": [
    "print(\"リスト\", [1, 2, 3], type([1, 2, 3]))\n",
    "print(\"タプル\", (1, 2, 3), type((1, 2, 3)))\n",
    "print(\"集合\", {1, 2, 3}, type({1, 2, 3}))\n"
   ]
  },
  {
   "cell_type": "code",
   "execution_count": 4,
   "metadata": {},
   "outputs": [
    {
     "name": "stdout",
     "output_type": "stream",
     "text": [
      "辞書 {'one': 1, 'two': 2} <class 'dict'>\n"
     ]
    }
   ],
   "source": [
    "print(\"辞書\", {\"one\": 1, \"two\": 2}, type({\"one\": 1, \"two\": 2}))"
   ]
  },
  {
   "cell_type": "code",
   "execution_count": 5,
   "metadata": {},
   "outputs": [
    {
     "name": "stdout",
     "output_type": "stream",
     "text": [
      "真偽値 True <class 'bool'>\n",
      "真偽値 False <class 'bool'>\n",
      "None None <class 'NoneType'>\n"
     ]
    }
   ],
   "source": [
    "print(\"真偽値\", True, type(True))\n",
    "print(\"真偽値\", False, type(False))\n",
    "print(\"None\", None, type(None))"
   ]
  },
  {
   "cell_type": "code",
   "execution_count": 6,
   "metadata": {},
   "outputs": [
    {
     "name": "stdout",
     "output_type": "stream",
     "text": [
      "バイト列 b'not string' <class 'bytes'>\n",
      "複素数 (1+1j) <class 'complex'>\n"
     ]
    }
   ],
   "source": [
    "# 知らなくても生きていける\n",
    "print(\"バイト列\", b\"not string\", type(b\"not string\"))\n",
    "print(\"複素数\", 1+1j, type(1+1j))\n"
   ]
  },
  {
   "cell_type": "markdown",
   "metadata": {},
   "source": [
    "これは **文字列 (string)** です。"
   ]
  },
  {
   "cell_type": "markdown",
   "metadata": {},
   "source": []
  },
  {
   "cell_type": "code",
   "execution_count": 7,
   "metadata": {},
   "outputs": [
    {
     "name": "stdout",
     "output_type": "stream",
     "text": [
      "Hello, World!\n"
     ]
    }
   ],
   "source": [
    "print(\"Hello, World!\")"
   ]
  },
  {
   "cell_type": "markdown",
   "metadata": {},
   "source": [
    "ノート\n",
    "\n",
    "`print` は"
   ]
  },
  {
   "cell_type": "code",
   "execution_count": 8,
   "metadata": {},
   "outputs": [
    {
     "data": {
      "text/plain": [
       "function"
      ]
     },
     "execution_count": 8,
     "metadata": {},
     "output_type": "execute_result"
    }
   ],
   "source": [
    "def f():\n",
    "    pass\n",
    "\n",
    "type(f)"
   ]
  },
  {
   "cell_type": "code",
   "execution_count": 9,
   "metadata": {},
   "outputs": [
    {
     "name": "stdout",
     "output_type": "stream",
     "text": [
      "3\n",
      "-1\n",
      "30\n",
      "0.875\n"
     ]
    }
   ],
   "source": [
    "print(1 + 2)\n",
    "print(3 - 4)\n",
    "print(5 * 6)\n",
    "print(7 / 8)"
   ]
  },
  {
   "cell_type": "code",
   "execution_count": 10,
   "metadata": {},
   "outputs": [
    {
     "name": "stdout",
     "output_type": "stream",
     "text": [
      "2\n",
      "1\n",
      "0\n",
      "1\n"
     ]
    }
   ],
   "source": [
    "print(4 // 2)\n",
    "print(4 // 3)\n",
    "print(4 % 2)\n",
    "print(4 % 3)"
   ]
  }
 ],
 "metadata": {
  "kernelspec": {
   "display_name": "Python 3.9.13 ('venv': venv)",
   "language": "python",
   "name": "python3"
  },
  "language_info": {
   "codemirror_mode": {
    "name": "ipython",
    "version": 3
   },
   "file_extension": ".py",
   "mimetype": "text/x-python",
   "name": "python",
   "nbconvert_exporter": "python",
   "pygments_lexer": "ipython3",
   "version": "3.9.13"
  },
  "vscode": {
   "interpreter": {
    "hash": "a1343c4d1053b91d4cecc84a6c5a488d085fc193828f8fec78529ff10f20133c"
   }
  }
 },
 "nbformat": 4,
 "nbformat_minor": 2
}