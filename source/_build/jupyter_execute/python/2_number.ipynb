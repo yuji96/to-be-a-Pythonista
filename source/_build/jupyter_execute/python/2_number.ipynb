{
 "cells": [
  {
   "cell_type": "markdown",
   "metadata": {},
   "source": [
    "# 2. 数"
   ]
  },
  {
   "cell_type": "markdown",
   "metadata": {},
   "source": [
    "プログラミングといえば計算です。そのためにまず数を扱えるようになりましょう。"
   ]
  },
  {
   "cell_type": "markdown",
   "metadata": {},
   "source": [
    "## 2.1. 整数"
   ]
  },
  {
   "cell_type": "markdown",
   "metadata": {},
   "source": [
    "まずは最も単純な数である **整数 (int)** です。ただ数値をそのまま書くだけで定義できます。"
   ]
  },
  {
   "cell_type": "code",
   "execution_count": 1,
   "metadata": {},
   "outputs": [
    {
     "name": "stdout",
     "output_type": "stream",
     "text": [
      "整数 12345 <class 'int'>\n",
      "負の数 -12345 <class 'int'>\n"
     ]
    }
   ],
   "source": [
    "print(\"整数\", 12345, type(12345))\n",
    "print(\"負の数\", -12345, type(-12345))"
   ]
  },
  {
   "cell_type": "markdown",
   "metadata": {},
   "source": [
    "`<class 'int'>` は integer の略です。"
   ]
  },
  {
   "cell_type": "markdown",
   "metadata": {},
   "source": [
    "## 2.2. 実数（浮動小数点数）"
   ]
  },
  {
   "cell_type": "markdown",
   "metadata": {},
   "source": [
    "次は **実数 (float)** です。これは小数のように小数点を含んだ数値を書くことで定義できます。  \n",
    "また、[指数表記（E表記）](https://ja.wikipedia.org/wiki/%E6%8C%87%E6%95%B0%E8%A1%A8%E8%A8%98) $m \\times 10^n$ も使用できます。\n",
    "float は桁数に応じて表示がそのままだったり指数表記になったりします。\n"
   ]
  },
  {
   "cell_type": "code",
   "execution_count": 2,
   "metadata": {},
   "outputs": [
    {
     "name": "stdout",
     "output_type": "stream",
     "text": [
      "小数 3.141592 <class 'float'>\n",
      "指数表記 -0.00123 <class 'float'>\n",
      "アボガドロ定数 6.02214076e+23 <class 'float'>\n",
      "int は省略されない 602214076000000000000000 <class 'int'>\n"
     ]
    }
   ],
   "source": [
    "print(\"小数\", 3.141592, type(3.141592))\n",
    "print(\"指数表記\", -1.23e-3, type(-1.23e-3))\n",
    "print(\"アボガドロ定数\", 602214076000000000000000.0, type(602214076000000000000000.0))\n",
    "print(\"int は省略されない\", 602214076000000000000000, type(602214076000000000000000))"
   ]
  },
  {
   "cell_type": "markdown",
   "metadata": {},
   "source": [
    "`<class 'float'>` は数値を表現するアルゴリズムである **浮動小数点方式** の浮動 (floating) からきています。\n",
    "\n",
    "```{tip}\n",
    "簡単に言うと `1.23` と `12.3` はそれぞれ「`123` の百の位」と「`123` の十の位」に小数点 (`.`) を入れたものと内部では処理されています。このように小数点が上に浮かんだり下に沈んだりすることから flaot と呼ばれています。\n",
    "```"
   ]
  },
  {
   "cell_type": "markdown",
   "metadata": {},
   "source": [
    "## 2.3. 複素数（番外編）"
   ]
  },
  {
   "cell_type": "markdown",
   "metadata": {},
   "source": [
    "`j` を虚数単位として `a+bj` と書くことで複素数を定義することができます。使う機会が少ないので説明は割愛します。\n",
    "何らかの実装をミスして $\\sqrt{~~}$ の中身をマイナスにしてしまったり、音声データや生体データ処理でフーリエ変換を使ったりすると再会するかもしれません。"
   ]
  },
  {
   "cell_type": "code",
   "execution_count": 3,
   "metadata": {},
   "outputs": [
    {
     "name": "stdout",
     "output_type": "stream",
     "text": [
      "複素数 (1+1j) <class 'complex'>\n"
     ]
    }
   ],
   "source": [
    "print(\"複素数\", 1+1j, type(1+1j))"
   ]
  },
  {
   "cell_type": "markdown",
   "metadata": {},
   "source": [
    "## 2.4. 演算"
   ]
  },
  {
   "cell_type": "markdown",
   "metadata": {},
   "source": [
    "数同士の演算は `a + b` のように 2 つの数字の間に算術演算子 (operator) をはさむことで表現されます（最後の符号は例外ですが）。\n",
    "Python では次のような算術演算子があります。"
   ]
  },
  {
   "cell_type": "code",
   "execution_count": 4,
   "metadata": {},
   "outputs": [
    {
     "name": "stdout",
     "output_type": "stream",
     "text": [
      "足し算: 1 + 2 = 3\n",
      "引き算: 3 - 4 = -1\n",
      "掛け算: 5 * 6 = 30\n",
      "割り算: 7 / 8 = 0.875\n",
      "商: 15 // 6 = 2\n",
      "剰余: 15 % 6 = 3\n",
      "累乗: 2**10 = 1024\n",
      "符号: -1 = -1\n"
     ]
    }
   ],
   "source": [
    "print(\"足し算: 1 + 2 =\", 1 + 2)\n",
    "print(\"引き算: 3 - 4 =\", 3 - 4)\n",
    "print(\"掛け算: 5 * 6 =\", 5 * 6)\n",
    "print(\"割り算: 7 / 8 =\", 7 / 8)\n",
    "print(\"商: 15 // 6 =\", 15 // 6)\n",
    "print(\"剰余: 15 % 6 =\", 15 % 6)\n",
    "print(\"累乗: 2**10 =\", 2**10)\n",
    "print(\"符号: -1 =\", -1)\n"
   ]
  },
  {
   "cell_type": "markdown",
   "metadata": {},
   "source": [
    "割り算についての補足です。\n",
    "- **Python の**割り算の計算結果は float 型になります（`int / int -> float`）\n",
    "- 割り切れる場合でも float 型になります\n",
    "- 商と剰余が欲しい場合は `//` と `%` を使用します\n",
    "- ゼロで割るとエラー（`ZeroDivisionError`）が発生して、実行が中断されます。\n",
    "\n",
    "$15 = 6 * 2 + 3$"
   ]
  },
  {
   "cell_type": "code",
   "execution_count": 5,
   "metadata": {},
   "outputs": [
    {
     "name": "stdout",
     "output_type": "stream",
     "text": [
      "割り切れる場合: 9 / 3 = 3.0\n",
      "割り切れない場合: 15 / 6 = 2.5\n",
      "商: 15 // 6 = 2\n",
      "剰余: 15 % 6 = 3\n"
     ]
    },
    {
     "ename": "ZeroDivisionError",
     "evalue": "division by zero",
     "output_type": "error",
     "traceback": [
      "\u001b[0;31m---------------------------------------------------------------------------\u001b[0m",
      "\u001b[0;31mZeroDivisionError\u001b[0m                         Traceback (most recent call last)",
      "Cell \u001b[0;32mIn [5], line 5\u001b[0m\n\u001b[1;32m      3\u001b[0m \u001b[38;5;28mprint\u001b[39m(\u001b[38;5;124m\"\u001b[39m\u001b[38;5;124m商: 15 // 6 =\u001b[39m\u001b[38;5;124m\"\u001b[39m, \u001b[38;5;241m15\u001b[39m \u001b[38;5;241m/\u001b[39m\u001b[38;5;241m/\u001b[39m \u001b[38;5;241m6\u001b[39m)\n\u001b[1;32m      4\u001b[0m \u001b[38;5;28mprint\u001b[39m(\u001b[38;5;124m\"\u001b[39m\u001b[38;5;124m剰余: 15 \u001b[39m\u001b[38;5;124m%\u001b[39m\u001b[38;5;124m 6 =\u001b[39m\u001b[38;5;124m\"\u001b[39m, \u001b[38;5;241m15\u001b[39m \u001b[38;5;241m%\u001b[39m \u001b[38;5;241m6\u001b[39m)\n\u001b[0;32m----> 5\u001b[0m \u001b[38;5;28mprint\u001b[39m(\u001b[38;5;124m\"\u001b[39m\u001b[38;5;124mゼロ除算: 9 / 0 =\u001b[39m\u001b[38;5;124m\"\u001b[39m, \u001b[38;5;241;43m9\u001b[39;49m\u001b[43m \u001b[49m\u001b[38;5;241;43m/\u001b[39;49m\u001b[43m \u001b[49m\u001b[38;5;241;43m0\u001b[39;49m)\n",
      "\u001b[0;31mZeroDivisionError\u001b[0m: division by zero"
     ]
    }
   ],
   "source": [
    "print(\"割り切れる場合: 9 / 3 =\", 9 / 3)\n",
    "print(\"割り切れない場合: 15 / 6 =\", 15 / 6)\n",
    "print(\"商: 15 // 6 =\", 15 // 6)\n",
    "print(\"剰余: 15 % 6 =\", 15 % 6)\n",
    "print(\"ゼロ除算: 9 / 0 =\", 9 / 0)"
   ]
  },
  {
   "cell_type": "markdown",
   "metadata": {},
   "source": [
    "```{tip}\n",
    "言語によって割り算の扱いは異なります。\n",
    "- C 言語 では小数部分が切り捨てられ `7 / 8 -> 0` となる。\n",
    "- Mathematica では分数を扱うことができるので `7/8` は計算せずそのまま `7/8` となる。\n",
    "```\n",
    "\n",
    "> かなり昔にイージス巡洋艦ヨークタウンは、ゼロ除算が原因で2時間半航行不能になったことがある。\n",
    "> [ヨークタウン](https://ja.wikipedia.org/wiki/%E3%83%A8%E3%83%BC%E3%82%AF%E3%82%BF%E3%82%A6%E3%83%B3_(%E3%83%9F%E3%82%B5%E3%82%A4%E3%83%AB%E5%B7%A1%E6%B4%8B%E8%89%A6))"
   ]
  },
  {
   "cell_type": "markdown",
   "metadata": {},
   "source": [
    "ここで数を int ではなく float にすると少し結果が変わります。（`1.0` のように小数部分が `0` の場合は `1.` のように省略することができます。）"
   ]
  },
  {
   "cell_type": "code",
   "execution_count": 86,
   "metadata": {},
   "outputs": [
    {
     "name": "stdout",
     "output_type": "stream",
     "text": [
      "足し算: 1. + 2. = 3.0\n",
      "引き算: 3. - 4. = -1.0\n",
      "掛け算: 5. * 6. = 30.0\n",
      "割り算: 7. / 8. = 0.875\n",
      "商: 15. // 6. = 2.0\n",
      "剰余: 15. % 6. = 3.0\n",
      "累乗: 2.**10. = 1024.0\n",
      "符号: -1. = -1.0\n"
     ]
    }
   ],
   "source": [
    "print(\"足し算: 1. + 2. =\", 1. + 2.)\n",
    "print(\"引き算: 3. - 4. =\", 3. - 4.)\n",
    "print(\"掛け算: 5. * 6. =\", 5. * 6.)\n",
    "print(\"割り算: 7. / 8. =\", 7. / 8.)\n",
    "print(\"商: 15. // 6. =\", 15. // 6.)\n",
    "print(\"剰余: 15. % 6. =\", 15. % 6.)\n",
    "print(\"累乗: 2.**10. =\", 2.**10.)\n",
    "print(\"符号: -1. =\", -1.)\n"
   ]
  },
  {
   "cell_type": "markdown",
   "metadata": {},
   "source": [
    "何が変わったか分かりましたか？正解は、返り値も int から float に変わりました。\n",
    "\n",
    "```{admonition} Quiz\n",
    "一方を int にしてもう一方を float にするとどうなるでしょうか。\n",
    "```"
   ]
  },
  {
   "cell_type": "markdown",
   "metadata": {},
   "source": [
    "ちなみに、累乗 $a^n$ の指数 $n$ は正の整数ではなく、ゼロ・負の数・実数にすることもできます。\n",
    "\n",
    "$$\n",
    "a^{0} = 1 ,~~ a^{-n} = \\dfrac{1}{a^n} ,~~ a^{1/n} = \\sqrt[n]{a}\n",
    "$$"
   ]
  },
  {
   "cell_type": "code",
   "execution_count": 88,
   "metadata": {},
   "outputs": [
    {
     "name": "stdout",
     "output_type": "stream",
     "text": [
      "ゼロ乗は常に 1: 2**0 = 1\n",
      "マイナス n 乗は分母の n 乗: 2**-1 = 0.5\n",
      "1/n 乗は n 重根（つまり、1/2 乗は平方根）: 2**0.5 = 1.4142135623730951\n"
     ]
    }
   ],
   "source": [
    "print(\"ゼロ乗は常に 1: 2**0 =\", 2**0)\n",
    "print(\"マイナス n 乗は分母の n 乗: 2**-1 =\", 2**-1)\n",
    "print(\"1/n 乗は n 重根（つまり、1/2 乗は平方根）: 2**0.5 =\", 2**0.5)\n"
   ]
  },
  {
   "cell_type": "markdown",
   "metadata": {},
   "source": [
    "$n$ が float 型のときに $a$ が負の数だと結果が複素数になることがあります。（早い再開でしたね。）\n",
    "\n",
    "$$\n",
    "(-a)^{1/2} = \\sqrt{-a} = \\sqrt{a}j\n",
    "$$"
   ]
  },
  {
   "cell_type": "code",
   "execution_count": 62,
   "metadata": {},
   "outputs": [
    {
     "data": {
      "text/plain": [
       "(6.123233995736766e-17+1j)"
      ]
     },
     "execution_count": 62,
     "metadata": {},
     "output_type": "execute_result"
    }
   ],
   "source": [
    "(-1)**0.5"
   ]
  },
  {
   "cell_type": "markdown",
   "metadata": {},
   "source": [
    "```{tip}\n",
    "$\\sqrt{-1} = 1j$ ですが、厳密に `1j` とはなりませんでした。プログラミングは厳密な数学的計算をしているわけではないのでよくあることです。\n",
    "`6.123...e-17` はほぼゼロなので今回は許してあげてください。\n",
    "\n",
    "話が脱線しますが、このような計算誤差を減らして精度の良い近似解を得ることを目的とした [数値解析](https://ja.wikipedia.org/wiki/%E6%95%B0%E5%80%A4%E8%A7%A3%E6%9E%90) という分野があります。もしこの数式が木星に飛んでいくロケットの中にあったら無視してはいけないかもしれません。\n",
    "```"
   ]
  },
  {
   "cell_type": "markdown",
   "metadata": {},
   "source": [
    "## 2.5. 計算順序"
   ]
  },
  {
   "cell_type": "markdown",
   "metadata": {},
   "source": [
    "$x^2 - 2x - 15 = 0$ の解は？"
   ]
  },
  {
   "cell_type": "code",
   "execution_count": 33,
   "metadata": {},
   "outputs": [
    {
     "data": {
      "text/plain": [
       "(-3.0, 5.0)"
      ]
     },
     "execution_count": 33,
     "metadata": {},
     "output_type": "execute_result"
    }
   ],
   "source": [
    "a = 1\n",
    "b = -2\n",
    "c = -15\n",
    "(-b - (b**2 - 4*a*c)**0.5) / (2 * a), (-b + (b**2 - 4*a*c)**0.5) / (2 * a)"
   ]
  }
 ],
 "metadata": {
  "kernelspec": {
   "display_name": "Python 3.9.13 ('venv': venv)",
   "language": "python",
   "name": "python3"
  },
  "language_info": {
   "codemirror_mode": {
    "name": "ipython",
    "version": 3
   },
   "file_extension": ".py",
   "mimetype": "text/x-python",
   "name": "python",
   "nbconvert_exporter": "python",
   "pygments_lexer": "ipython3",
   "version": "3.9.13"
  },
  "vscode": {
   "interpreter": {
    "hash": "a1343c4d1053b91d4cecc84a6c5a488d085fc193828f8fec78529ff10f20133c"
   }
  }
 },
 "nbformat": 4,
 "nbformat_minor": 2
}