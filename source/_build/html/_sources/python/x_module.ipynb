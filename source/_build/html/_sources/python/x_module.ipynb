{
 "cells": [
  {
   "cell_type": "code",
   "execution_count": null,
   "metadata": {},
   "outputs": [],
   "source": []
  }
 ],
 "metadata": {
  "kernelspec": {
   "display_name": "Python 3.9.13 ('venv': venv)",
   "language": "python",
   "name": "python3"
  },
  "language_info": {
   "name": "python",
   "version": "3.9.13"
  },
  "orig_nbformat": 4,
  "vscode": {
   "interpreter": {
    "hash": "a1343c4d1053b91d4cecc84a6c5a488d085fc193828f8fec78529ff10f20133c"
   }
  }
 },
 "nbformat": 4,
 "nbformat_minor": 2
}
