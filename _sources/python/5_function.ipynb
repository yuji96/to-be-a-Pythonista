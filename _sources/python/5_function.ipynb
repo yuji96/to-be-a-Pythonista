{
 "cells": [
  {
   "attachments": {},
   "cell_type": "markdown",
   "metadata": {},
   "source": [
    "# 関数"
   ]
  },
  {
   "cell_type": "code",
   "execution_count": null,
   "metadata": {
    "vscode": {
     "languageId": "plaintext"
    }
   },
   "outputs": [],
   "source": []
  },
  {
   "cell_type": "code",
   "execution_count": null,
   "metadata": {
    "vscode": {
     "languageId": "plaintext"
    }
   },
   "outputs": [],
   "source": [
    "```{note}\n",
    "`print` とは「**丸括弧** 内のものを表示する」という処理に対する名前、つまり、**関数名** です。身近なことで例えると、「箸で米を掴んで口の中に入れて噛んで飲み込む」という一連の動作を「食べる」と名付けて大雑把にすることで世の中は便利になっています。（例えたことでむしろ困惑させてたらごめん）。\n",
    "```"
   ]
  }
 ],
 "metadata": {
  "language_info": {
   "name": "python"
  },
  "orig_nbformat": 4
 },
 "nbformat": 4,
 "nbformat_minor": 2
}
