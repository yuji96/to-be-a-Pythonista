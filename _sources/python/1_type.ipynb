{
 "cells": [
  {
   "cell_type": "markdown",
   "metadata": {},
   "source": [
    "# 1. 型と変数"
   ]
  },
  {
   "cell_type": "markdown",
   "metadata": {},
   "source": [
    "## 1.1.  Hello, World!"
   ]
  },
  {
   "cell_type": "code",
   "execution_count": 6,
   "metadata": {},
   "outputs": [
    {
     "name": "stdout",
     "output_type": "stream",
     "text": [
      "Hello, World!\n"
     ]
    }
   ],
   "source": [
    "print(\"Hello, World!\")"
   ]
  },
  {
   "attachments": {},
   "cell_type": "markdown",
   "metadata": {},
   "source": [
    "これは「`\"Hello, World\"` という文字列を表示するプログラム」で、最も単純かつ有名なプログラムです。よく、初心者向けの教材の 1 ページ目や動作確認などで登場します。この教材もその慣習に則ってみました。\n",
    "\n",
    "> [40言語で「Hello World」をやってみよう！](https://www.microstone.info/helloworld/)\n",
    "\n",
    "このとても単純なコードは何をしているのでしょうか。\n",
    "- `\"Hello, World\"` : これは **文字列 (string)** です。\n",
    "  - ダブルクォーテーション (`\"`) または、シングルクォーテーション (`'`) で囲まれたものは、文字列として扱われます。\n",
    "- `print` : これは **丸括弧 `()`** 内のものを表示する **関数 (function)** です。\n",
    "  - 関数については 5 章で詳しく学習します。\n",
    "  \n",
    "なので、`print(\"Hello, World\")` は「`\"Hello, World\"` という文字列を表示する」ことができるのです。"
   ]
  },
  {
   "attachments": {},
   "cell_type": "markdown",
   "metadata": {},
   "source": [
    "```{tip}\n",
    "Python のきれいなプログラムは英文のように読めることがあります。`print(\"Hello, World!\")` は、そのまま「Print \"Hello, World!\"」と解釈することができ、あなたが Python に「\"Hello, World!\" と表示しろ！」と命令しているのです。\n",
    "```"
   ]
  },
  {
   "cell_type": "markdown",
   "metadata": {},
   "source": [
    "## 1.2. 型 (type)"
   ]
  },
  {
   "attachments": {},
   "cell_type": "markdown",
   "metadata": {},
   "source": [
    "プログラミングには **型 (type)** という考え方があります。さっき出てきた 文字列 も型の一つです。簡単に言うとプログラミングで扱うことができる概念の種類みたいなものです。百聞は一見にしかずということで、詳しい説明はあとの章でやるとして、まずは色々と見てみましょう。"
   ]
  },
  {
   "attachments": {},
   "cell_type": "markdown",
   "metadata": {},
   "source": [
    "```{tip}\n",
    "「そういうものだ」ということにして、分かるようになってから戻ってくることも大事。\n",
    "```"
   ]
  },
  {
   "cell_type": "markdown",
   "metadata": {},
   "source": [
    "下のコードを使って色々な型を見ていきます。`type` 関数は入力された値がなんの型なのかを返す関数です。ちなみに、`print` 関数はカンマ区切りで複数の値を入力すると、空白区切りで出力されます。"
   ]
  },
  {
   "cell_type": "code",
   "execution_count": 2,
   "metadata": {},
   "outputs": [
    {
     "name": "stdout",
     "output_type": "stream",
     "text": [
      "文字列 こんにちは <class 'str'>\n"
     ]
    }
   ],
   "source": [
    "print(\"文字列\", \"こんにちは\", type(\"こんにちは\"))"
   ]
  },
  {
   "attachments": {},
   "cell_type": "markdown",
   "metadata": {},
   "source": [
    "振り返りになりますが `\"\"` で囲んだものは文字列になるということだったので、`\"こんにちは\"` は文字列です。\n",
    "なので、`type(\"こんにちは\")` の結果は、文字列型を示す `<class 'str'>` となります。（str は string の略です。）"
   ]
  },
  {
   "attachments": {},
   "cell_type": "markdown",
   "metadata": {},
   "source": [
    "まずは、**数** について見ていきましょう。\n",
    "Python には、整数型 (int) や実数型 (float)、さらに複素数型 (complex) が用意されています。"
   ]
  },
  {
   "cell_type": "code",
   "execution_count": 4,
   "metadata": {},
   "outputs": [
    {
     "name": "stdout",
     "output_type": "stream",
     "text": [
      "整数 1234 <class 'int'>\n",
      "実数 3.14 <class 'float'>\n",
      "複素数 (1+2j) <class 'complex'>\n"
     ]
    }
   ],
   "source": [
    "print(\"整数\", 1234, type(1234))\n",
    "print(\"実数\", 3.14, type(3.14))\n",
    "print(\"複素数\", 1 + 2j, type(1 + 2j))"
   ]
  },
  {
   "attachments": {},
   "cell_type": "markdown",
   "metadata": {},
   "source": [
    "なにか計算を行うときは、これらの型を使います。（複素数を使うことは物理系でなければほぼないと思いますが…）\n",
    "\n",
    "では、続いて **シーケンス** です。簡単に言えば、何かを並べたものです。"
   ]
  },
  {
   "cell_type": "code",
   "execution_count": 7,
   "metadata": {},
   "outputs": [
    {
     "name": "stdout",
     "output_type": "stream",
     "text": [
      "リスト [1, 5.2, 'hello'] <class 'list'>\n",
      "タプル (1, 5.2, 'hello') <class 'tuple'>\n",
      "レンジ range(0, 100) <class 'range'>\n",
      "文字列 こんばんわ <class 'str'>\n"
     ]
    }
   ],
   "source": [
    "print(\"リスト\", [1, 5.2, \"hello\"], type([1, 5.2, \"hello\"]))\n",
    "print(\"レンジ\", range(100), type(range(100)))\n",
    "print(\"文字列\", \"こんばんわ\", type(\"こんばんわ\"))"
   ]
  },
  {
   "attachments": {},
   "cell_type": "markdown",
   "metadata": {},
   "source": [
    "確かに、リストは何かが並んでいるように見えますね。\n",
    "レンジは分かりにくいですが、`range(0, 100)` は 0 から始まる 100 個の整数 `0, 1, 2,...,99` の並びを意味しています。\n",
    "文字列も文字を並べたものなので、これらの仲間です。\n",
    "\n",
    "```{tip}\n",
    "（再掲）「そういうものだ」ということにして、分かるようになってから戻ってくることも大事。\n",
    "```\n",
    "\n",
    "どんどん行きます。次は、**辞書 (dict)** です。対応関係を表すのに使います。"
   ]
  },
  {
   "cell_type": "code",
   "execution_count": 17,
   "metadata": {},
   "outputs": [
    {
     "name": "stdout",
     "output_type": "stream",
     "text": [
      "辞書 {'one': 1, 'two': 2} <class 'dict'>\n"
     ]
    }
   ],
   "source": [
    "print(\"辞書\", {\"one\": 1, \"two\": 2}, type({\"one\": 1, \"two\": 2}))"
   ]
  },
  {
   "attachments": {},
   "cell_type": "markdown",
   "metadata": {},
   "source": [
    "ここでは、「one は 1」「two は 2」のような対応関係を表しています。"
   ]
  },
  {
   "attachments": {},
   "cell_type": "markdown",
   "metadata": {},
   "source": [
    "ここからは、日常生活ではあまり使わないプログラミングらしい用語が出てきます。\n",
    "\n",
    "まずは、**真偽値 (bool)** です。"
   ]
  },
  {
   "cell_type": "code",
   "execution_count": 8,
   "metadata": {},
   "outputs": [
    {
     "name": "stdout",
     "output_type": "stream",
     "text": [
      "真偽値 True <class 'bool'>\n",
      "真偽値 False <class 'bool'>\n"
     ]
    }
   ],
   "source": [
    "print(\"真偽値\", True, type(True))\n",
    "print(\"真偽値\", False, type(False))\n"
   ]
  },
  {
   "attachments": {},
   "cell_type": "markdown",
   "metadata": {},
   "source": [
    "与えられた命題が本当か嘘かを表すときに使います。\n",
    "例えば、「日本の首都は横浜である。」は嘘なので `False` です。"
   ]
  },
  {
   "attachments": {},
   "cell_type": "markdown",
   "metadata": {},
   "source": [
    "次は、**関数 (function)** です。簡単に言うと、何かを入れると処理をするものです。\n",
    "処理だけするものもあれば、処理結果を返すものもあります。\n",
    "\n",
    "では、今まで使ってきた `print` 関数と初登場の `max` 関数の型を見てみましょう。"
   ]
  },
  {
   "cell_type": "code",
   "execution_count": 10,
   "metadata": {},
   "outputs": [
    {
     "name": "stdout",
     "output_type": "stream",
     "text": [
      "最大値を求める関数 <built-in function max> <class 'builtin_function_or_method'>\n",
      "結果を出力する関数 <built-in function print> <class 'builtin_function_or_method'>\n"
     ]
    }
   ],
   "source": [
    "print(\"結果を表示する関数\", print, type(print))\n",
    "print(\"最大値を求める関数\", max, type(max))"
   ]
  },
  {
   "attachments": {},
   "cell_type": "markdown",
   "metadata": {},
   "source": [
    "`builtin_function_or_method` と表示されました。builtin というのは元から用意されているという意味です。\n",
    "なので、「元から用意された関数（またはメソッド）ですよ」と表示されています。\n",
    "\n",
    "後で学習しますが、関数は自作することもできます。ここでは、`a + b` を計算する関数を定義してみました。"
   ]
  },
  {
   "cell_type": "code",
   "execution_count": 11,
   "metadata": {},
   "outputs": [
    {
     "name": "stdout",
     "output_type": "stream",
     "text": [
      "足し算する自作関数 <function my_function at 0x109642820> <class 'function'>\n"
     ]
    }
   ],
   "source": [
    "def my_function(a, b):\n",
    "    return a + b\n",
    "\n",
    "\n",
    "print(\"足し算する自作関数\", my_function, type(my_function))\n"
   ]
  },
  {
   "attachments": {},
   "cell_type": "markdown",
   "metadata": {},
   "source": [
    "すると、今回は builtin ではなくただの `function` として表示されました。"
   ]
  },
  {
   "attachments": {},
   "cell_type": "markdown",
   "metadata": {},
   "source": [
    "とりあえず、紹介はこのくらいにして、次章以降でそれぞれについて詳しく学びましょう。"
   ]
  },
  {
   "attachments": {},
   "cell_type": "markdown",
   "metadata": {},
   "source": [
    "---\n",
    "\n",
    "ここからは、重要だけど最初に紹介するのはちょっと難しいかなと思ったものです。\n",
    "体力が残っている方はぜひ読んでみてください。"
   ]
  },
  {
   "attachments": {},
   "cell_type": "markdown",
   "metadata": {},
   "source": [
    "まずは、`None` (ナン) です。"
   ]
  },
  {
   "cell_type": "code",
   "execution_count": null,
   "metadata": {},
   "outputs": [
    {
     "name": "stdout",
     "output_type": "stream",
     "text": [
      "None None <class 'NoneType'>\n"
     ]
    }
   ],
   "source": [
    "print(\"None\", None, type(None))"
   ]
  },
  {
   "attachments": {},
   "cell_type": "markdown",
   "metadata": {},
   "source": [
    "これは何なんですかね。ナンだけに。\n",
    "冗談は置いといて、`None` は「なにもない」ことを表すときに使います。\n",
    "\n",
    "`None` がプログラミングに必要な理由は、この画像が一番わかりやすいと思います。（NULL と None は同じ概念です。）\n",
    "\n",
    "<img src=\"../images/1_none.jpg\" width=\"400\" align=\"center\">\n",
    "\n",
    "出典: https://www.reddit.com/r/ProgrammerHumor/comments/6f68rv/difference_between_0_and_null/\n",
    "\n",
    "`None` という概念があるおかげで、トイレットペーパが空っぽなのか、存在自体がないのか、を使い分けることができます。"
   ]
  },
  {
   "cell_type": "markdown",
   "metadata": {},
   "source": [
    "次は、**集合**です。"
   ]
  },
  {
   "cell_type": "code",
   "execution_count": 2,
   "metadata": {},
   "outputs": [
    {
     "name": "stdout",
     "output_type": "stream",
     "text": [
      "集合 {1, 2, 3} <class 'set'>\n"
     ]
    }
   ],
   "source": [
    "print(\"集合\", {1, 2, 3, 2, 1}, type({1, 2, 3, 2, 1}))\n"
   ]
  },
  {
   "attachments": {},
   "cell_type": "markdown",
   "metadata": {},
   "source": [
    "あまり使う機会は少ないかもしれませんが、数学の集合の計算ができるのでたまに役立ちます。\n",
    "\n",
    "<img src=\"../images/1_set.jpg\" width=\"500\" align=\"center\">\n",
    "\n",
    "出典: https://www.nli-research.co.jp/report/detail/id=63317"
   ]
  },
  {
   "attachments": {},
   "cell_type": "markdown",
   "metadata": {},
   "source": [
    "ここまで様々な型を紹介しましたが、型（クラス）を自作することもできます。"
   ]
  },
  {
   "cell_type": "code",
   "execution_count": 18,
   "metadata": {},
   "outputs": [
    {
     "name": "stdout",
     "output_type": "stream",
     "text": [
      "人間型（自作） 大谷翔平 <class '__main__.Human'>\n"
     ]
    }
   ],
   "source": [
    "class Human:\n",
    "    def __init__(self, name):\n",
    "        self.name = name\n",
    "\n",
    "    def __str__(self):\n",
    "        return self.name\n",
    "\n",
    "\n",
    "human = Human(name=\"大谷翔平\")\n",
    "print(\"人間型（自作）\", human, type(human))\n"
   ]
  }
 ],
 "metadata": {
  "kernelspec": {
   "display_name": "Python 3.9.13 ('venv': venv)",
   "language": "python",
   "name": "python3"
  },
  "language_info": {
   "codemirror_mode": {
    "name": "ipython",
    "version": 3
   },
   "file_extension": ".py",
   "mimetype": "text/x-python",
   "name": "python",
   "nbconvert_exporter": "python",
   "pygments_lexer": "ipython3",
   "version": "3.9.13"
  },
  "orig_nbformat": 4,
  "vscode": {
   "interpreter": {
    "hash": "a1343c4d1053b91d4cecc84a6c5a488d085fc193828f8fec78529ff10f20133c"
   }
  }
 },
 "nbformat": 4,
 "nbformat_minor": 2
}
